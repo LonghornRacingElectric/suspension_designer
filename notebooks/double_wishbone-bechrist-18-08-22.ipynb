{
 "cells": [
  {
   "cell_type": "markdown",
   "metadata": {},
   "source": [
    "# Double Wishbone Design Notebook"
   ]
  },
  {
   "cell_type": "code",
   "execution_count": 1,
   "metadata": {},
   "outputs": [],
   "source": [
    "# %% Imports\n",
    "import os, sys \n",
    "\n",
    "import tomllib as toml\n",
    "\n",
    "import networkx as nx\n",
    "\n",
    "sys.path.insert(0, os.path.realpath('..'))\n",
    "from suspension_designer.linkages.double_wishbone import DoubleWishbone"
   ]
  },
  {
   "cell_type": "code",
   "execution_count": 2,
   "metadata": {},
   "outputs": [],
   "source": [
    "# %% Test TOML Input\n",
    "testInput = \"\"\"\n",
    "[vehicle]\n",
    "wheelbase   =  60.00    # [in]\n",
    "\"%f\"        =  47.00    # [%]       (Front Weight Distribution)\n",
    "cg_height   =   9.00    # [in]\n",
    "ride        =   2.00    # [in]      (Ride Clearance Height)\n",
    "rake        = +1.00    # [deg] \n",
    "tire_radius =   7.85    # [in]      (Loaded Tire Radius)\n",
    "\n",
    "[target]\n",
    "track       =  48.00    # [in] \n",
    "\"%roll\"     = +80.00    # [%]       (Roll-Jacking Tradeoff)\n",
    "\"%pitch\"    =  +0.00    # [%]       (Pitch-Jacking Tradeoff)\n",
    "caster      =  +3.00    # [deg]\n",
    "caster_gain =  +0.00    # [deg/in]\n",
    "camber      =  -1.60    # [deg]\n",
    "camber_gain =  -0.02    # [deg/in]\n",
    "toe         =  +0.50    # [deg]\n",
    "scrub       =  +0.75    # [in]\n",
    "kpi         =  +5.00    # [deg]\n",
    "\n",
    "[bound]     # [in]\n",
    "LAF = [[  0   ,  0   ], [  0   ,  0   ], [  0.50,  0.50]] # {X} \n",
    "LAR = [[  0   ,  0   ], [  0   ,  0   ], [  0.50,  0.50]] # {X}\n",
    "LB  = [[  0.00,  0.00], [ -1.00, -0.87], [ -2.75, -2.80]] # {W}\n",
    "\n",
    "UAF = [[  0   ,  0   ], [  0   ,  0   ], [  7.50,  8.50]] # {X}\n",
    "UAR = [[  0   ,  0   ], [  0   ,  0   ], [  7.50,  8.50]] # {X}\n",
    "UB  = [[  0.00,  0.00], [ -2.00, -0.87], [  3.00,  4.00]] # {W}\n",
    "\n",
    "TA  = [[  2.50,  4.00], [  8.70,  8.70], [  2.00,  3.00]] # {X}\n",
    "TB  = [[  2.70,  3.00], [  0   ,  0   ], [ -2.00,  2.00]] # {W}\n",
    "\"\"\""
   ]
  },
  {
   "cell_type": "code",
   "execution_count": 4,
   "metadata": {},
   "outputs": [],
   "source": [
    "# %% Initialize\n",
    "doubleWishbone = DoubleWishbone(options=toml.loads(testInput))\n",
    "\n",
    "# Design\n",
    "doubleWishbone.design()"
   ]
  },
  {
   "cell_type": "code",
   "execution_count": null,
   "metadata": {},
   "outputs": [],
   "source": []
  }
 ],
 "metadata": {
  "kernelspec": {
   "display_name": "Python 3.10.5 ('suspdes')",
   "language": "python",
   "name": "python3"
  },
  "language_info": {
   "codemirror_mode": {
    "name": "ipython",
    "version": 3
   },
   "file_extension": ".py",
   "mimetype": "text/x-python",
   "name": "python",
   "nbconvert_exporter": "python",
   "pygments_lexer": "ipython3",
   "version": "3.11.0"
  },
  "orig_nbformat": 4,
  "vscode": {
   "interpreter": {
    "hash": "7a62985664aa72fa4a59dbe48f0eb7730d8cd99755142f97d301e9a8e18d5410"
   }
  }
 },
 "nbformat": 4,
 "nbformat_minor": 2
}
